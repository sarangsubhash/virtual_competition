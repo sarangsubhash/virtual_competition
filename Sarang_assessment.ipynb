{
  "nbformat": 4,
  "nbformat_minor": 0,
  "metadata": {
    "colab": {
      "provenance": []
    },
    "kernelspec": {
      "name": "python3",
      "display_name": "Python 3"
    },
    "language_info": {
      "name": "python"
    }
  },
  "cells": [
    {
      "cell_type": "code",
      "execution_count": null,
      "metadata": {
        "colab": {
          "base_uri": "https://localhost:8080/"
        },
        "id": "Vg0GxslNIqYx",
        "outputId": "9683f7c7-bb24-41ca-9892-4b507c75f4c6"
      },
      "outputs": [
        {
          "output_type": "stream",
          "name": "stdout",
          "text": [
            "enter first number3\n",
            "enter the second number4\n",
            "enter the third number6\n",
            "6 is maximum\n"
          ]
        }
      ],
      "source": [
        " # 2.Write a Python function to find the maximum of three numbers Sample input:34,12,7 Sample output: 34\n",
        "\n",
        "x=int(input(\"enter first number\"))\n",
        "y=int(input(\"enter the second number\"))\n",
        "z=int(input(\"enter the third number\"))\n",
        "\n",
        "if x>y and x>z:\n",
        "  print(x,'is the maximum')\n",
        "elif y>x and y>z:\n",
        "    print(y,'is maximum')\n",
        "else:\n",
        "      print(z,\"is maximum\")\n"
      ]
    },
    {
      "cell_type": "code",
      "source": [
        "# 3.Write a Python function called exponent(base,exp) that returns an integer value of base raises to the power of exp. Sample input: Enter the base: 2Enter the exponent: 3 Sample output: 8\n",
        "\n",
        "def exponent(base,exp):\n",
        " x=base**exp\n",
        " return x\n",
        "\n"
      ],
      "metadata": {
        "id": "1dQSZdLGK7c0"
      },
      "execution_count": null,
      "outputs": []
    },
    {
      "cell_type": "code",
      "source": [
        "a=(int(input(\"enter the base\")))\n",
        "b=(int(input(\"enter the exponent\")))\n",
        "print(exponent(a,b))"
      ],
      "metadata": {
        "colab": {
          "base_uri": "https://localhost:8080/"
        },
        "id": "Kv2HzGDeLtTb",
        "outputId": "7c30cd0e-5c99-48e9-b9aa-6bd495e7225e"
      },
      "execution_count": null,
      "outputs": [
        {
          "output_type": "stream",
          "name": "stdout",
          "text": [
            "enter the base3\n",
            "enter the exponent3\n",
            "27\n"
          ]
        }
      ]
    },
    {
      "cell_type": "code",
      "source": [
        "# 9.Write a Python function to convert temperatures to and from Celsius Fahrenheit. [Formula: c/5=f-32/9 where c=temperature in Celsius and f=temperature in Fahrenheit.] Sample input: Temperature in Fahrenheit =41Sample output: Temperature in Celsius =5\n",
        "\n",
        "def ctof(cel_far):\n",
        "  return (cel_far/5)\n",
        "def ftoc(far_cel):\n",
        "  return (far_cel-(32/9))\n"
      ],
      "metadata": {
        "id": "n6cZhD1uMvzY"
      },
      "execution_count": null,
      "outputs": []
    },
    {
      "cell_type": "code",
      "source": [
        "f=float(input(\"enter the fahreheit temperature\"))\n",
        "c=float(input(\"enter the celsius temperature\"))\n",
        "cecius_fahren=print(ctof(c))\n",
        "fahren_celsius=print(ftoc(f))"
      ],
      "metadata": {
        "colab": {
          "base_uri": "https://localhost:8080/"
        },
        "id": "-wWWg1-7VOc8",
        "outputId": "71aa3a1a-765c-4d01-898b-107ebceef6c9"
      },
      "execution_count": null,
      "outputs": [
        {
          "output_type": "stream",
          "name": "stdout",
          "text": [
            "enter the fahreheit temperature30\n",
            "enter the celsius temperature40\n",
            "8.0\n",
            "26.444444444444443\n"
          ]
        }
      ]
    },
    {
      "cell_type": "code",
      "source": [
        "#5.Write a Python program which iterates from 1 to 10. For multiples of 2, print\n",
        "#“Fizz” instead of the number and for the multiples of 5, print “Buzz”. For\n",
        "#numbers which are multiples of both 2 and 5, print “FizzBuzz”. Sample input:\n",
        "#numbers from 1 to 10 Sample output: 1 Fizz 3 Fizz Buzz Fizz 7 Fizz 9\n",
        "#FizzBuzz\n",
        "for num in range(1,11):\n",
        "\n",
        "  if num%2==0:\n",
        "    print(\"fizz\")\n",
        "  elif num%5==0:\n",
        "    print(\"buzz\")\n",
        "  elif num%2==0 and num%5==0:\n",
        "      print(\"fizzbuzz\")\n",
        "  else:\n",
        "    print(num)\n",
        "\n",
        "\n"
      ],
      "metadata": {
        "colab": {
          "base_uri": "https://localhost:8080/"
        },
        "id": "8t42SxMJUSXE",
        "outputId": "a23ae69c-a982-4b5e-c6fe-682bd2609dd1"
      },
      "execution_count": null,
      "outputs": [
        {
          "output_type": "stream",
          "name": "stdout",
          "text": [
            "1\n",
            "fizz\n",
            "3\n",
            "fizz\n",
            "buzz\n",
            "fizz\n",
            "7\n",
            "fizz\n",
            "9\n",
            "fizz\n"
          ]
        }
      ]
    },
    {
      "cell_type": "code",
      "source": [
        "# 7. Write a Python function to find the sum of squares of the numbers in a list.Sample input: 2,1,3,1 Sample output: 15\n",
        "def sos(list1):\n",
        "    sum = 0\n",
        "    for num in list1:\n",
        "        sum += num * num\n",
        "    print(sum)"
      ],
      "metadata": {
        "id": "elmrtek-XJKM"
      },
      "execution_count": null,
      "outputs": []
    },
    {
      "cell_type": "code",
      "source": [
        "li=[1,2,3,4]\n",
        "print(sos(li))"
      ],
      "metadata": {
        "colab": {
          "base_uri": "https://localhost:8080/"
        },
        "id": "blEXDy_Ja871",
        "outputId": "dc4e0fb1-33e5-4bf2-896b-2bca608e9b98"
      },
      "execution_count": null,
      "outputs": [
        {
          "output_type": "stream",
          "name": "stdout",
          "text": [
            "30\n",
            "None\n"
          ]
        }
      ]
    },
    {
      "cell_type": "code",
      "source": [
        "# 8. Write a Python program using for loop that will iterate from 1 to 15. For each\n",
        "#iteration, check if the current number is odd or even, and display the message\n",
        "#to the screen as odd or even. Sample input: 1….15 Sample output: 1-odd 2-\n",
        "#even …. 15-odd\n",
        "\n",
        "for num in range(1,16):\n",
        "  if(num%2==0):\n",
        "    print(\"even\")\n",
        "  else:\n",
        "      print(\"odd\")\n",
        "  print(num)\n"
      ],
      "metadata": {
        "colab": {
          "base_uri": "https://localhost:8080/"
        },
        "id": "47RQhK3ronG6",
        "outputId": "0139f3f1-cd78-48aa-b456-4afaac5b424a"
      },
      "execution_count": null,
      "outputs": [
        {
          "output_type": "stream",
          "name": "stdout",
          "text": [
            "odd\n",
            "1\n",
            "even\n",
            "2\n",
            "odd\n",
            "3\n",
            "even\n",
            "4\n",
            "odd\n",
            "5\n",
            "even\n",
            "6\n",
            "odd\n",
            "7\n",
            "even\n",
            "8\n",
            "odd\n",
            "9\n",
            "even\n",
            "10\n",
            "odd\n",
            "11\n",
            "even\n",
            "12\n",
            "odd\n",
            "13\n",
            "even\n",
            "14\n",
            "odd\n",
            "15\n"
          ]
        }
      ]
    },
    {
      "cell_type": "code",
      "source": [
        "# 4. Write a Python function that takes a positive integer and returns the sum of\n",
        "#the cube of all the positive integers smaller than the specified number.\n",
        "#Sample input: 4 Sample output: 36.\n",
        "def sos(limit):\n",
        "    sum = 0\n",
        "    for i in range(1, limit + 1):\n",
        "        sum += i * i*i\n",
        "\n",
        "    return sum\n",
        "\n",
        "\n",
        "limit=12\n",
        "print(sos(limit))"
      ],
      "metadata": {
        "id": "GUacIXoLpdoJ",
        "colab": {
          "base_uri": "https://localhost:8080/"
        },
        "outputId": "507c77e0-d983-4f92-df9f-34bf91a8ccd9"
      },
      "execution_count": 10,
      "outputs": [
        {
          "output_type": "stream",
          "name": "stdout",
          "text": [
            "6084\n"
          ]
        }
      ]
    },
    {
      "cell_type": "code",
      "source": [
        "#10.factorial of number\n",
        "def factorial(n):\n",
        "    if n < 0:\n",
        "        return 0\n",
        "    elif n == 0 or n == 1:\n",
        "        return 1\n",
        "    else:\n",
        "        fact = 1\n",
        "        while(n > 1):\n",
        "            fact *= n\n",
        "            n -= 1\n",
        "        return fact\n",
        "\n"
      ],
      "metadata": {
        "id": "DwRkGuhO5YRm"
      },
      "execution_count": 11,
      "outputs": []
    },
    {
      "cell_type": "code",
      "source": [
        "\n",
        "num = int(input(\"enter a number\"))\n",
        "print(\"Factorial of\",num,\"is\",\n",
        "factorial(num))"
      ],
      "metadata": {
        "colab": {
          "base_uri": "https://localhost:8080/"
        },
        "id": "q1DGFRbN6QR4",
        "outputId": "7bdec9e5-9a9a-45f6-815d-995b589014a1"
      },
      "execution_count": 12,
      "outputs": [
        {
          "output_type": "stream",
          "name": "stdout",
          "text": [
            "enter a number5\n",
            "Factorial of 5 is 120\n"
          ]
        }
      ]
    },
    {
      "cell_type": "code",
      "source": [
        "#12\n",
        "def student(stdrec):\n",
        "    id =input(\"Enter the id: \")\n",
        "    name=input(\"Enter student name: \")\n",
        "    grade=int(input(\"Enter grade level FROM 1-12: \"))\n",
        "    gpa=float(input(\"Enter GPA: \"))\n",
        "\n",
        "\n",
        "\n"
      ],
      "metadata": {
        "id": "MGPV2HoV3GVZ"
      },
      "execution_count": null,
      "outputs": []
    }
  ]
}